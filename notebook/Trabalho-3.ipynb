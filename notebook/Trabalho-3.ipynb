{
 "cells": [
  {
   "cell_type": "code",
   "execution_count": 4,
   "metadata": {},
   "outputs": [],
   "source": [
    "import sys\n",
    "sys.path.append('../')\n",
    "%matplotlib inline\n",
    "import os\n",
    "import time\n",
    "import numpy as np\n",
    "import pandas as pd\n",
    "import matplotlib.pyplot as plt\n",
    "import seaborn as sns\n",
    "\n",
    "from sklearn.feature_extraction.text import TfidfTransformer\n",
    "from sklearn.feature_extraction.text import TfidfVectorizer\n",
    "from sklearn.model_selection import train_test_split\n",
    "from sklearn.metrics import confusion_matrix, roc_curve\n",
    "from sklearn.metrics import accuracy_score\n",
    "from sklearn import metrics\n",
    "\n",
    "from sklearn.naive_bayes import MultinomialNB\n",
    "from sklearn.ensemble import RandomForestClassifier\n",
    "from sklearn.linear_model import SGDClassifier\n",
    "from xgboost import XGBClassifier\n",
    "from sklearn.naive_bayes import GaussianNB\n",
    "from sklearn.ensemble import StackingClassifier"
   ]
  },
  {
   "cell_type": "code",
   "execution_count": 5,
   "metadata": {},
   "outputs": [],
   "source": [
    "from mycode.utils import classes_def, clean_tweets"
   ]
  },
  {
   "cell_type": "markdown",
   "metadata": {},
   "source": [
    "## Load Data"
   ]
  },
  {
   "cell_type": "code",
   "execution_count": 6,
   "metadata": {},
   "outputs": [],
   "source": [
    "file_csv = \"../dataset/Corona_NLP_train.csv\"\n",
    "dataset = pd.read_csv(file_csv,encoding=\"latin\")"
   ]
  },
  {
   "cell_type": "markdown",
   "metadata": {},
   "source": [
    "## Pipeline\n",
    "\n",
    "### Define output classes"
   ]
  },
  {
   "cell_type": "code",
   "execution_count": 7,
   "metadata": {},
   "outputs": [
    {
     "data": {
      "text/plain": [
       "2    0.438467\n",
       "0    0.374128\n",
       "1    0.187404\n",
       "Name: class, dtype: float64"
      ]
     },
     "execution_count": 7,
     "metadata": {},
     "output_type": "execute_result"
    }
   ],
   "source": [
    "dataset['class'] = dataset['Sentiment'].apply(lambda x:classes_def(x))\n",
    "dataset[\"class\"].value_counts(normalize= True)"
   ]
  },
  {
   "cell_type": "code",
   "execution_count": 8,
   "metadata": {},
   "outputs": [
    {
     "data": {
      "text/html": [
       "<div>\n",
       "<style scoped>\n",
       "    .dataframe tbody tr th:only-of-type {\n",
       "        vertical-align: middle;\n",
       "    }\n",
       "\n",
       "    .dataframe tbody tr th {\n",
       "        vertical-align: top;\n",
       "    }\n",
       "\n",
       "    .dataframe thead th {\n",
       "        text-align: right;\n",
       "    }\n",
       "</style>\n",
       "<table border=\"1\" class=\"dataframe\">\n",
       "  <thead>\n",
       "    <tr style=\"text-align: right;\">\n",
       "      <th></th>\n",
       "      <th>UserName</th>\n",
       "      <th>ScreenName</th>\n",
       "      <th>Location</th>\n",
       "      <th>TweetAt</th>\n",
       "      <th>OriginalTweet</th>\n",
       "      <th>Sentiment</th>\n",
       "      <th>class</th>\n",
       "    </tr>\n",
       "  </thead>\n",
       "  <tbody>\n",
       "    <tr>\n",
       "      <th>0</th>\n",
       "      <td>3799</td>\n",
       "      <td>48751</td>\n",
       "      <td>London</td>\n",
       "      <td>16-03-2020</td>\n",
       "      <td>@MeNyrbie @Phil_Gahan @Chrisitv https://t.co/i...</td>\n",
       "      <td>Neutral</td>\n",
       "      <td>1</td>\n",
       "    </tr>\n",
       "    <tr>\n",
       "      <th>1</th>\n",
       "      <td>3800</td>\n",
       "      <td>48752</td>\n",
       "      <td>UK</td>\n",
       "      <td>16-03-2020</td>\n",
       "      <td>advice Talk to your neighbours family to excha...</td>\n",
       "      <td>Positive</td>\n",
       "      <td>2</td>\n",
       "    </tr>\n",
       "    <tr>\n",
       "      <th>2</th>\n",
       "      <td>3801</td>\n",
       "      <td>48753</td>\n",
       "      <td>Vagabonds</td>\n",
       "      <td>16-03-2020</td>\n",
       "      <td>Coronavirus Australia: Woolworths to give elde...</td>\n",
       "      <td>Positive</td>\n",
       "      <td>2</td>\n",
       "    </tr>\n",
       "    <tr>\n",
       "      <th>3</th>\n",
       "      <td>3802</td>\n",
       "      <td>48754</td>\n",
       "      <td>NaN</td>\n",
       "      <td>16-03-2020</td>\n",
       "      <td>My food stock is not the only one which is emp...</td>\n",
       "      <td>Positive</td>\n",
       "      <td>2</td>\n",
       "    </tr>\n",
       "    <tr>\n",
       "      <th>4</th>\n",
       "      <td>3803</td>\n",
       "      <td>48755</td>\n",
       "      <td>NaN</td>\n",
       "      <td>16-03-2020</td>\n",
       "      <td>Me, ready to go at supermarket during the #COV...</td>\n",
       "      <td>Extremely Negative</td>\n",
       "      <td>0</td>\n",
       "    </tr>\n",
       "  </tbody>\n",
       "</table>\n",
       "</div>"
      ],
      "text/plain": [
       "   UserName  ScreenName   Location     TweetAt  \\\n",
       "0      3799       48751     London  16-03-2020   \n",
       "1      3800       48752         UK  16-03-2020   \n",
       "2      3801       48753  Vagabonds  16-03-2020   \n",
       "3      3802       48754        NaN  16-03-2020   \n",
       "4      3803       48755        NaN  16-03-2020   \n",
       "\n",
       "                                       OriginalTweet           Sentiment class  \n",
       "0  @MeNyrbie @Phil_Gahan @Chrisitv https://t.co/i...             Neutral     1  \n",
       "1  advice Talk to your neighbours family to excha...            Positive     2  \n",
       "2  Coronavirus Australia: Woolworths to give elde...            Positive     2  \n",
       "3  My food stock is not the only one which is emp...            Positive     2  \n",
       "4  Me, ready to go at supermarket during the #COV...  Extremely Negative     0  "
      ]
     },
     "execution_count": 8,
     "metadata": {},
     "output_type": "execute_result"
    }
   ],
   "source": [
    "dataset.head()"
   ]
  },
  {
   "cell_type": "markdown",
   "metadata": {},
   "source": [
    "### Text Cleaning"
   ]
  },
  {
   "cell_type": "code",
   "execution_count": 9,
   "metadata": {},
   "outputs": [],
   "source": [
    "#!pip3 install bs4\n",
    "#!pip3 install html5lib\n",
    "#!pip3 install lxml"
   ]
  },
  {
   "cell_type": "code",
   "execution_count": 10,
   "metadata": {},
   "outputs": [
    {
     "name": "stderr",
     "output_type": "stream",
     "text": [
      "100%|██████████| 41157/41157 [00:17<00:00, 2342.85it/s]\n"
     ]
    }
   ],
   "source": [
    "preprocessed_tweets = clean_tweets(dataset['OriginalTweet'].values)"
   ]
  },
  {
   "cell_type": "markdown",
   "metadata": {},
   "source": [
    "### Converting Text to Numerical Vector"
   ]
  },
  {
   "cell_type": "code",
   "execution_count": 11,
   "metadata": {},
   "outputs": [
    {
     "name": "stdout",
     "output_type": "stream",
     "text": [
      "The shape of out text TFIDF vectorizer:  (41157, 6611)\n"
     ]
    }
   ],
   "source": [
    "tf_idf_vect = TfidfVectorizer(min_df=10)\n",
    "tf_idf_vect.fit(preprocessed_tweets)\n",
    "final_tf_idf = tf_idf_vect.transform(preprocessed_tweets)\n",
    "print(\"The shape of out text TFIDF vectorizer: \",final_tf_idf.get_shape())"
   ]
  },
  {
   "cell_type": "markdown",
   "metadata": {},
   "source": [
    "### Select Atrubuttes"
   ]
  },
  {
   "cell_type": "code",
   "execution_count": 12,
   "metadata": {},
   "outputs": [],
   "source": [
    "X = final_tf_idf.toarray()  # OriginalTweet\n",
    "y = np.array(dataset[\"class\"].tolist())"
   ]
  },
  {
   "cell_type": "markdown",
   "metadata": {},
   "source": [
    "### Train and Test Split"
   ]
  },
  {
   "cell_type": "code",
   "execution_count": 13,
   "metadata": {},
   "outputs": [],
   "source": [
    "X_train, X_test, y_train, y_test = train_test_split(X, y, test_size= 0.3,stratify=y,  random_state=42)"
   ]
  },
  {
   "cell_type": "markdown",
   "metadata": {},
   "source": [
    "## Stacking"
   ]
  },
  {
   "cell_type": "code",
   "execution_count": 14,
   "metadata": {},
   "outputs": [],
   "source": [
    "from sklearn.model_selection import cross_val_predict\n",
    "from sklearn.model_selection import cross_val_score\n",
    "from sklearn.model_selection import RepeatedStratifiedKFold\n",
    "from sklearn.model_selection import StratifiedKFold"
   ]
  },
  {
   "cell_type": "code",
   "execution_count": 15,
   "metadata": {},
   "outputs": [],
   "source": [
    "# get a stacking ensemble of models\n",
    "def get_stacking(n_splits=5):\n",
    "    # define the base models\n",
    "    level0 = list()\n",
    "    level0.append(('mnb', MultinomialNB(alpha=0.1, class_prior=None, fit_prior=True)))\n",
    "    level0.append(('rfc', RandomForestClassifier(bootstrap=True, class_weight='balanced',\n",
    "            criterion='gini', max_depth=50, max_features='auto',\n",
    "            max_leaf_nodes=None, min_impurity_decrease=0.0,\n",
    "            min_impurity_split=None, min_samples_leaf=1,\n",
    "            min_samples_split=2, min_weight_fraction_leaf=0.0,\n",
    "            n_estimators=500, n_jobs=-1, oob_score=False, random_state=None,\n",
    "            verbose=0, warm_start=False)))\n",
    "    level0.append(('sgdc', SGDClassifier(class_weight='balanced', penalty='l1')))\n",
    "\n",
    "    # define meta learner model\n",
    "    level1 = SGDClassifier(class_weight='balanced', penalty='l1')\n",
    "    # define the stacking ensemble\n",
    "    model = StackingClassifier(estimators=level0, final_estimator=level1, cv=n_splits)\n",
    "    return model\n",
    "\n",
    "# get a list of models to evaluate\n",
    "def get_models():\n",
    "    models = dict()\n",
    "    models['mnb'] = MultinomialNB(alpha=0.1, class_prior=None, fit_prior=True)\n",
    "    models['rfc'] = RandomForestClassifier(bootstrap=True, class_weight='balanced',\n",
    "            criterion='gini', max_depth=50, max_features='auto',\n",
    "            max_leaf_nodes=None, min_impurity_decrease=0.0,\n",
    "            min_impurity_split=None, min_samples_leaf=1,\n",
    "            min_samples_split=2, min_weight_fraction_leaf=0.0,\n",
    "            n_estimators=500, n_jobs=-1, oob_score=False, random_state=None,\n",
    "            verbose=0, warm_start=False)\n",
    "    models['sgdc'] = SGDClassifier(class_weight='balanced', penalty='l1')\n",
    "    models['stacking'] = get_stacking()\n",
    "    return models\n",
    "\n",
    "# evaluate a given model using cross-validation\n",
    "def evaluate_model_train(model, X_, y_, n_splits=5):\n",
    "    #predict_proba = cross_val_predict(model, X_, y_, cv=n_splits, n_jobs=-1, method='predict_proba')\n",
    "    predict = cross_val_predict(model, X_, y_, cv=n_splits, n_jobs=-1)\n",
    "    print(f'Training Data CV Score: {np.round(accuracy_score(y_, predict),4) * 100}%')\n",
    "    return predict\n",
    "\n",
    "def evaluate_model_test(model, X_tr, y_tr, X_te, y_te):\n",
    "    # Fit model\n",
    "    model.fit(X_tr, y_tr)\n",
    "    # Make predictions\n",
    "    y_pred = model.predict(X_te)\n",
    "    print(f'Testing Data Accuracy Score: {np.round(accuracy_score(y_te, y_pred), 4) * 100}%')\n",
    "    return y_pred\n",
    "    "
   ]
  },
  {
   "cell_type": "markdown",
   "metadata": {},
   "source": [
    "### Data Train"
   ]
  },
  {
   "cell_type": "code",
   "execution_count": 16,
   "metadata": {},
   "outputs": [
    {
     "name": "stdout",
     "output_type": "stream",
     "text": [
      "==================================================\n",
      "mnb\n",
      "--------------------------------------------------\n",
      "Training Data CV Score: 66.88%\n",
      "==================================================\n",
      "rfc\n",
      "--------------------------------------------------\n",
      "Training Data CV Score: 68.17%\n",
      "==================================================\n",
      "sgdc\n",
      "--------------------------------------------------\n",
      "Training Data CV Score: 76.94%\n",
      "==================================================\n",
      "stacking\n",
      "--------------------------------------------------\n",
      "Training Data CV Score: 79.54%\n"
     ]
    }
   ],
   "source": [
    "# get the models to evaluate\n",
    "models = get_models()\n",
    "results_train = list()\n",
    "for name, model in models.items():\n",
    "    print('='*50)\n",
    "    print(name)\n",
    "    print('-'*50)\n",
    "    results_train = evaluate_model_train(model, X_train, y_train)"
   ]
  },
  {
   "cell_type": "markdown",
   "metadata": {},
   "source": [
    "### Data Test"
   ]
  },
  {
   "cell_type": "code",
   "execution_count": 17,
   "metadata": {},
   "outputs": [
    {
     "name": "stdout",
     "output_type": "stream",
     "text": [
      "==================================================\n",
      "mnb\n",
      "--------------------------------------------------\n",
      "Testing Data Accuracy Score: 67.84%\n",
      "==================================================\n",
      "rfc\n",
      "--------------------------------------------------\n",
      "Testing Data Accuracy Score: 68.89999999999999%\n",
      "==================================================\n",
      "sgdc\n",
      "--------------------------------------------------\n",
      "Testing Data Accuracy Score: 76.97%\n",
      "==================================================\n",
      "stacking\n",
      "--------------------------------------------------\n",
      "Testing Data Accuracy Score: 79.51%\n"
     ]
    }
   ],
   "source": [
    "# evaluate the models and store results\n",
    "results, names, times = list(), list(), list()\n",
    "for name, model in models.items():\n",
    "    print('='*50)\n",
    "    print(name)\n",
    "    print('-'*50)\n",
    "    start_time = time.time()\n",
    "    predict = evaluate_model_test(model, X_train, y_train, X_test, y_test)\n",
    "    results.append(predict)\n",
    "    names.append(name)\n",
    "    times.append(time.time() - start_time)\n",
    "    "
   ]
  },
  {
   "cell_type": "markdown",
   "metadata": {},
   "source": [
    "## Metrics"
   ]
  },
  {
   "cell_type": "code",
   "execution_count": 18,
   "metadata": {},
   "outputs": [],
   "source": [
    "def classification_report(y_actual, list_y_predict, target_names, names_models, times):\n",
    "    for i in range(len(list_y_predict)):\n",
    "        print('='*50)\n",
    "        print(names_models[i], ': ', times[i], ' seconds.')\n",
    "        print('-'*50)\n",
    "        print(metrics.classification_report(y_actual, list_y_predict[i], \n",
    "                                    target_names= target_names))\n",
    "\n",
    "def plot_save_confussionmatrix(y_actual, list_y_pred, names_models):\n",
    "    for i in range(len(list_y_pred)):\n",
    "        plt.clf()\n",
    "        cm=confusion_matrix(y_actual, list_y_pred[i])\n",
    "        cm_df=pd.DataFrame(cm,index=[0,1,2],columns=[0,1,2])\n",
    "        print(\"Accuracy:\",names_models[i], accuracy_score(y_actual, list_y_pred[i]))\n",
    "\n",
    "        sns.set(font_scale=1.,color_codes=True,palette=\"deep\")\n",
    "        sns.heatmap(cm_df,annot=True,annot_kws={\"size\":12},fmt=\"d\",cmap=\"YlGnBu\")\n",
    "        plt.title(\"Confusion Matrix\")\n",
    "        plt.xlabel(\"Predicted Value\")\n",
    "        plt.ylabel(\"True Value\")\n",
    "        plt.savefig('../dataset/images_result/'+ names_models[i] + '.png', format='png', dpi=120)"
   ]
  },
  {
   "cell_type": "code",
   "execution_count": 24,
   "metadata": {},
   "outputs": [
    {
     "name": "stdout",
     "output_type": "stream",
     "text": [
      "==================================================\n",
      "mnb :  1.795240879058838  seconds.\n",
      "--------------------------------------------------\n",
      "              precision    recall  f1-score   support\n",
      "\n",
      "           1       0.69      0.71      0.70      4620\n",
      "           2       0.71      0.27      0.39      2314\n",
      "           0       0.66      0.82      0.73      5414\n",
      "\n",
      "    accuracy                           0.68     12348\n",
      "   macro avg       0.69      0.60      0.61     12348\n",
      "weighted avg       0.68      0.68      0.66     12348\n",
      "\n",
      "==================================================\n",
      "rfc :  599.467159986496  seconds.\n",
      "--------------------------------------------------\n",
      "              precision    recall  f1-score   support\n",
      "\n",
      "           1       0.75      0.64      0.69      4620\n",
      "           2       0.49      0.79      0.61      2314\n",
      "           0       0.79      0.69      0.74      5414\n",
      "\n",
      "    accuracy                           0.69     12348\n",
      "   macro avg       0.68      0.71      0.68     12348\n",
      "weighted avg       0.72      0.69      0.69     12348\n",
      "\n",
      "==================================================\n",
      "sgdc :  63.48714590072632  seconds.\n",
      "--------------------------------------------------\n",
      "              precision    recall  f1-score   support\n",
      "\n",
      "           1       0.84      0.71      0.77      4620\n",
      "           2       0.57      0.87      0.69      2314\n",
      "           0       0.85      0.77      0.81      5414\n",
      "\n",
      "    accuracy                           0.77     12348\n",
      "   macro avg       0.76      0.79      0.76     12348\n",
      "weighted avg       0.80      0.77      0.77     12348\n",
      "\n",
      "==================================================\n",
      "stacking :  3281.499913930893  seconds.\n",
      "--------------------------------------------------\n",
      "              precision    recall  f1-score   support\n",
      "\n",
      "           1       0.82      0.77      0.80      4620\n",
      "           2       0.63      0.86      0.73      2314\n",
      "           0       0.87      0.79      0.83      5414\n",
      "\n",
      "    accuracy                           0.80     12348\n",
      "   macro avg       0.78      0.81      0.78     12348\n",
      "weighted avg       0.81      0.80      0.80     12348\n",
      "\n"
     ]
    }
   ],
   "source": [
    "classification_report(y_test, results, dataset['class'].unique(), names, times)"
   ]
  },
  {
   "cell_type": "code",
   "execution_count": 20,
   "metadata": {},
   "outputs": [
    {
     "name": "stdout",
     "output_type": "stream",
     "text": [
      "Accuracy: mnb 0.6784094590217039\n",
      "Accuracy: rfc 0.6890184645286687\n",
      "Accuracy: sgdc 0.7696793002915452\n",
      "Accuracy: stacking 0.7951085195983155\n"
     ]
    },
    {
     "data": {
      "image/png": "[encoded data removed]",
      "text/plain": [
       "<Figure size 432x288 with 2 Axes>"
      ]
     },
     "metadata": {
      "needs_background": "light"
     },
     "output_type": "display_data"
    }
   ],
   "source": [
    "plot_save_confussionmatrix(y_test, results, names)"
   ]
  },
  {
   "cell_type": "code",
   "execution_count": null,
   "metadata": {},
   "outputs": [],
   "source": []
  },
  {
   "cell_type": "code",
   "execution_count": null,
   "metadata": {},
   "outputs": [],
   "source": []
  }
 ],
 "metadata": {
  "kernelspec": {
   "display_name": "Python 3",
   "language": "python",
   "name": "python3"
  },
  "language_info": {
   "codemirror_mode": {
    "name": "ipython",
    "version": 3
   },
   "file_extension": ".py",
   "mimetype": "text/x-python",
   "name": "python",
   "nbconvert_exporter": "python",
   "pygments_lexer": "ipython3",
   "version": "3.8.6"
  }
 },
 "nbformat": 4,
 "nbformat_minor": 4
}

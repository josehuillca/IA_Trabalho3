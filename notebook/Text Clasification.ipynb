{
 "cells": [
  {
   "cell_type": "code",
   "execution_count": 1,
   "metadata": {},
   "outputs": [],
   "source": [
    "import sys\n",
    "sys.path.append('../')\n",
    "%matplotlib inline\n",
    "import os\n",
    "import time\n",
    "import numpy as np\n",
    "import pandas as pd\n",
    "import matplotlib.pyplot as plt\n",
    "import seaborn as sns\n",
    "\n",
    "from sklearn.feature_extraction.text import TfidfTransformer\n",
    "from sklearn.feature_extraction.text import TfidfVectorizer\n",
    "from sklearn.model_selection import train_test_split\n",
    "from sklearn.metrics import confusion_matrix, roc_curve\n",
    "from sklearn.metrics import accuracy_score\n",
    "from sklearn import metrics\n",
    "\n",
    "from sklearn.naive_bayes import MultinomialNB\n",
    "from sklearn.ensemble import RandomForestClassifier\n",
    "from sklearn.linear_model import SGDClassifier\n",
    "from xgboost import XGBClassifier\n",
    "from sklearn.naive_bayes import GaussianNB\n",
    "from sklearn.ensemble import StackingClassifier"
   ]
  },
  {
   "cell_type": "code",
   "execution_count": 2,
   "metadata": {},
   "outputs": [
    {
     "name": "stderr",
     "output_type": "stream",
     "text": [
      "[nltk_data] Downloading package stopwords to\n",
      "[nltk_data]     /Users/josehuillca/nltk_data...\n",
      "[nltk_data]   Package stopwords is already up-to-date!\n"
     ]
    }
   ],
   "source": [
    "from mycode.utils import classes_def, clean_tweets"
   ]
  },
  {
   "cell_type": "markdown",
   "metadata": {},
   "source": [
    "## Load Data"
   ]
  },
  {
   "cell_type": "code",
   "execution_count": 3,
   "metadata": {},
   "outputs": [],
   "source": [
    "file_csv = \"../dataset/Corona_NLP_test.csv\"\n",
    "dataset = pd.read_csv(file_csv,encoding=\"latin\")"
   ]
  },
  {
   "cell_type": "markdown",
   "metadata": {},
   "source": [
    "## Pipeline\n",
    "\n",
    "### Define output classes"
   ]
  },
  {
   "cell_type": "code",
   "execution_count": 4,
   "metadata": {},
   "outputs": [
    {
     "data": {
      "text/plain": [
       "0    0.429963\n",
       "2    0.407056\n",
       "1    0.162981\n",
       "Name: class, dtype: float64"
      ]
     },
     "execution_count": 4,
     "metadata": {},
     "output_type": "execute_result"
    }
   ],
   "source": [
    "dataset['class'] = dataset['Sentiment'].apply(lambda x:classes_def(x))\n",
    "dataset[\"class\"].value_counts(normalize= True)"
   ]
  },
  {
   "cell_type": "code",
   "execution_count": 5,
   "metadata": {},
   "outputs": [
    {
     "data": {
      "text/html": [
       "<div>\n",
       "<style scoped>\n",
       "    .dataframe tbody tr th:only-of-type {\n",
       "        vertical-align: middle;\n",
       "    }\n",
       "\n",
       "    .dataframe tbody tr th {\n",
       "        vertical-align: top;\n",
       "    }\n",
       "\n",
       "    .dataframe thead th {\n",
       "        text-align: right;\n",
       "    }\n",
       "</style>\n",
       "<table border=\"1\" class=\"dataframe\">\n",
       "  <thead>\n",
       "    <tr style=\"text-align: right;\">\n",
       "      <th></th>\n",
       "      <th>UserName</th>\n",
       "      <th>ScreenName</th>\n",
       "      <th>Location</th>\n",
       "      <th>TweetAt</th>\n",
       "      <th>OriginalTweet</th>\n",
       "      <th>Sentiment</th>\n",
       "      <th>class</th>\n",
       "    </tr>\n",
       "  </thead>\n",
       "  <tbody>\n",
       "    <tr>\n",
       "      <th>0</th>\n",
       "      <td>1</td>\n",
       "      <td>44953</td>\n",
       "      <td>NYC</td>\n",
       "      <td>02-03-2020</td>\n",
       "      <td>TRENDING: New Yorkers encounter empty supermar...</td>\n",
       "      <td>Extremely Negative</td>\n",
       "      <td>0</td>\n",
       "    </tr>\n",
       "    <tr>\n",
       "      <th>1</th>\n",
       "      <td>2</td>\n",
       "      <td>44954</td>\n",
       "      <td>Seattle, WA</td>\n",
       "      <td>02-03-2020</td>\n",
       "      <td>When I couldn't find hand sanitizer at Fred Me...</td>\n",
       "      <td>Positive</td>\n",
       "      <td>2</td>\n",
       "    </tr>\n",
       "    <tr>\n",
       "      <th>2</th>\n",
       "      <td>3</td>\n",
       "      <td>44955</td>\n",
       "      <td>NaN</td>\n",
       "      <td>02-03-2020</td>\n",
       "      <td>Find out how you can protect yourself and love...</td>\n",
       "      <td>Extremely Positive</td>\n",
       "      <td>2</td>\n",
       "    </tr>\n",
       "    <tr>\n",
       "      <th>3</th>\n",
       "      <td>4</td>\n",
       "      <td>44956</td>\n",
       "      <td>Chicagoland</td>\n",
       "      <td>02-03-2020</td>\n",
       "      <td>#Panic buying hits #NewYork City as anxious sh...</td>\n",
       "      <td>Negative</td>\n",
       "      <td>0</td>\n",
       "    </tr>\n",
       "    <tr>\n",
       "      <th>4</th>\n",
       "      <td>5</td>\n",
       "      <td>44957</td>\n",
       "      <td>Melbourne, Victoria</td>\n",
       "      <td>03-03-2020</td>\n",
       "      <td>#toiletpaper #dunnypaper #coronavirus #coronav...</td>\n",
       "      <td>Neutral</td>\n",
       "      <td>1</td>\n",
       "    </tr>\n",
       "  </tbody>\n",
       "</table>\n",
       "</div>"
      ],
      "text/plain": [
       "   UserName  ScreenName             Location     TweetAt  \\\n",
       "0         1       44953                  NYC  02-03-2020   \n",
       "1         2       44954          Seattle, WA  02-03-2020   \n",
       "2         3       44955                  NaN  02-03-2020   \n",
       "3         4       44956          Chicagoland  02-03-2020   \n",
       "4         5       44957  Melbourne, Victoria  03-03-2020   \n",
       "\n",
       "                                       OriginalTweet           Sentiment class  \n",
       "0  TRENDING: New Yorkers encounter empty supermar...  Extremely Negative     0  \n",
       "1  When I couldn't find hand sanitizer at Fred Me...            Positive     2  \n",
       "2  Find out how you can protect yourself and love...  Extremely Positive     2  \n",
       "3  #Panic buying hits #NewYork City as anxious sh...            Negative     0  \n",
       "4  #toiletpaper #dunnypaper #coronavirus #coronav...             Neutral     1  "
      ]
     },
     "execution_count": 5,
     "metadata": {},
     "output_type": "execute_result"
    }
   ],
   "source": [
    "dataset.head()"
   ]
  },
  {
   "cell_type": "markdown",
   "metadata": {},
   "source": [
    "### Text Cleaning"
   ]
  },
  {
   "cell_type": "code",
   "execution_count": 6,
   "metadata": {},
   "outputs": [
    {
     "name": "stderr",
     "output_type": "stream",
     "text": [
      "100%|██████████| 3798/3798 [00:01<00:00, 2745.37it/s]\n"
     ]
    }
   ],
   "source": [
    "preprocessed_tweets = clean_tweets(dataset['OriginalTweet'].values)"
   ]
  },
  {
   "cell_type": "markdown",
   "metadata": {},
   "source": [
    "### Converting Text to Numerical Vector"
   ]
  },
  {
   "cell_type": "code",
   "execution_count": 7,
   "metadata": {},
   "outputs": [
    {
     "name": "stdout",
     "output_type": "stream",
     "text": [
      "The shape of out text TFIDF vectorizer:  (3798, 1124)\n"
     ]
    }
   ],
   "source": [
    "tf_idf_vect = TfidfVectorizer(min_df=10)\n",
    "tf_idf_vect.fit(preprocessed_tweets)\n",
    "final_tf_idf = tf_idf_vect.transform(preprocessed_tweets)\n",
    "print(\"The shape of out text TFIDF vectorizer: \",final_tf_idf.get_shape())"
   ]
  },
  {
   "cell_type": "markdown",
   "metadata": {},
   "source": [
    "### Select Atrubuttes"
   ]
  },
  {
   "cell_type": "code",
   "execution_count": 8,
   "metadata": {},
   "outputs": [],
   "source": [
    "X = final_tf_idf.toarray()  # OriginalTweet\n",
    "y = np.array(dataset[\"class\"].tolist())"
   ]
  },
  {
   "cell_type": "markdown",
   "metadata": {},
   "source": [
    "### Train and Test Split"
   ]
  },
  {
   "cell_type": "code",
   "execution_count": 9,
   "metadata": {},
   "outputs": [],
   "source": [
    "X_train, X_test, y_train, y_test = train_test_split(X, y, test_size= 0.3)"
   ]
  },
  {
   "cell_type": "markdown",
   "metadata": {},
   "source": [
    "## Stacking"
   ]
  },
  {
   "cell_type": "code",
   "execution_count": 10,
   "metadata": {},
   "outputs": [],
   "source": [
    "from sklearn.model_selection import cross_val_predict\n",
    "from sklearn.model_selection import cross_val_score\n",
    "from sklearn.model_selection import RepeatedStratifiedKFold\n",
    "from sklearn.model_selection import StratifiedKFold"
   ]
  },
  {
   "cell_type": "code",
   "execution_count": 11,
   "metadata": {},
   "outputs": [],
   "source": [
    "# get a stacking ensemble of models\n",
    "def get_stacking(n_splits=10):\n",
    "    cv = StratifiedKFold(n_splits=n_splits)\n",
    "    # define the base models\n",
    "    level0 = list()\n",
    "    level0.append(('rfc', RandomForestClassifier(bootstrap=True, class_weight='balanced',\n",
    "            criterion='gini', max_depth=50, max_features='auto',\n",
    "            max_leaf_nodes=None, min_impurity_decrease=0.0,\n",
    "            min_impurity_split=None, min_samples_leaf=1,\n",
    "            min_samples_split=2, min_weight_fraction_leaf=0.0,\n",
    "            n_estimators=500, n_jobs=1, oob_score=False, random_state=None,\n",
    "            verbose=0, warm_start=False)))\n",
    "    level0.append(('mnb', MultinomialNB(alpha=0.1, class_prior=None, fit_prior=True)))\n",
    "    level0.append(('xgbc', XGBClassifier(base_score=0.5, booster='gbtree', colsample_bylevel=1,\n",
    "           colsample_bytree=1, gamma=0, learning_rate=0.1, max_delta_step=0,\n",
    "           max_depth=7, min_child_weight=1, missing=None, n_estimators=500,\n",
    "           n_jobs=1, nthread=None, objective='multi:softprob', random_state=0,\n",
    "           reg_alpha=0, reg_lambda=1, scale_pos_weight=1, seed=None,\n",
    "           silent=True, subsample=1)))\n",
    "    level0.append(('sgdc', SGDClassifier(class_weight='balanced', penalty='l1')))\n",
    "    \n",
    "    # define meta learner model\n",
    "    level1 = SGDClassifier(class_weight='balanced', penalty='l1')\n",
    "    # define the stacking ensemble\n",
    "    model = StackingClassifier(estimators=level0, final_estimator=level1, cv=cv)\n",
    "    return model\n",
    "\n",
    "# get a list of models to evaluate\n",
    "def get_models():\n",
    "    models = dict()\n",
    "    models['rfc'] = RandomForestClassifier(bootstrap=True, class_weight='balanced',\n",
    "            criterion='gini', max_depth=50, max_features='auto',\n",
    "            max_leaf_nodes=None, min_impurity_decrease=0.0,\n",
    "            min_impurity_split=None, min_samples_leaf=1,\n",
    "            min_samples_split=2, min_weight_fraction_leaf=0.0,\n",
    "            n_estimators=500, n_jobs=1, oob_score=False, random_state=None,\n",
    "            verbose=0, warm_start=False)\n",
    "    models['mnb'] = MultinomialNB(alpha=0.1, class_prior=None, fit_prior=True)\n",
    "    models['xgbc'] = XGBClassifier(base_score=0.5, booster='gbtree', colsample_bylevel=1,\n",
    "           colsample_bytree=1, gamma=0, learning_rate=0.1, max_delta_step=0,\n",
    "           max_depth=7, min_child_weight=1, missing=None, n_estimators=500,\n",
    "           n_jobs=1, nthread=None, objective='multi:softprob', random_state=0,\n",
    "           reg_alpha=0, reg_lambda=1, scale_pos_weight=1, seed=None,\n",
    "           silent=True, subsample=1)\n",
    "    models['sgdc'] = SGDClassifier(class_weight='balanced', penalty='l1')\n",
    "    models['stacking'] = get_stacking()\n",
    "    return models\n",
    "\n",
    "# evaluate a given model using cross-validation\n",
    "def evaluate_model_train(model, X_, y_, n_splits=10):\n",
    "    cv = StratifiedKFold(n_splits=n_splits)\n",
    "    #predict_proba = cross_val_predict(model, X_, y_, cv=n_splits, n_jobs=-1, method='predict_proba')\n",
    "    predict = cross_val_predict(model, X_, y_, cv=cv, n_jobs=-1)\n",
    "    print(f'Training Data CV Score: {np.round(accuracy_score(y_, predict),4) * 100}%')\n",
    "    return predict\n",
    "\n",
    "def evaluate_model_test(model, X_tr, y_tr, X_te, y_te):\n",
    "    # Fit model\n",
    "    model.fit(X_tr, y_tr)\n",
    "    # Make predictions\n",
    "    y_pred = model.predict(X_te)\n",
    "    print(f'Testing Data Accuracy Score: {np.round(accuracy_score(y_te, y_pred), 4) * 100}%')\n",
    "    return y_pred\n",
    "    "
   ]
  },
  {
   "cell_type": "markdown",
   "metadata": {},
   "source": [
    "### Data Train"
   ]
  },
  {
   "cell_type": "code",
   "execution_count": null,
   "metadata": {},
   "outputs": [
    {
     "name": "stdout",
     "output_type": "stream",
     "text": [
      "==================================================\n",
      "rfc\n",
      "--------------------------------------------------\n",
      "Training Data CV Score: 61.17%\n",
      "==================================================\n",
      "mnb\n",
      "--------------------------------------------------\n",
      "Training Data CV Score: 60.46%\n",
      "==================================================\n",
      "xgbc\n",
      "--------------------------------------------------\n",
      "Training Data CV Score: 63.019999999999996%\n",
      "==================================================\n",
      "sgdc\n",
      "--------------------------------------------------\n",
      "Training Data CV Score: 63.73%\n",
      "==================================================\n",
      "stacking\n",
      "--------------------------------------------------\n"
     ]
    }
   ],
   "source": [
    "# get the models to evaluate\n",
    "models = get_models()\n",
    "results_train = list()\n",
    "for name, model in models.items():\n",
    "    print('='*50)\n",
    "    print(name)\n",
    "    print('-'*50)\n",
    "    results_train = evaluate_model_train(model, X_train, y_train)"
   ]
  },
  {
   "cell_type": "markdown",
   "metadata": {},
   "source": [
    "### Data Test"
   ]
  },
  {
   "cell_type": "code",
   "execution_count": null,
   "metadata": {},
   "outputs": [],
   "source": [
    "# evaluate the models and store results\n",
    "results, names, times = list(), list(), list()\n",
    "for name, model in models.items():\n",
    "    print('='*50)\n",
    "    print(name)\n",
    "    print('-'*50)\n",
    "    start_time = time.time()\n",
    "    predict = evaluate_model_test(model, X_train, y_train, X_test, y_test)\n",
    "    results.append(predict)\n",
    "    names.append(name)\n",
    "    times.append(time.time() - start_time)\n",
    "    "
   ]
  },
  {
   "cell_type": "markdown",
   "metadata": {},
   "source": [
    "## Metrics"
   ]
  },
  {
   "cell_type": "code",
   "execution_count": null,
   "metadata": {},
   "outputs": [],
   "source": [
    "def classification_report(y_actual, list_y_predict, target_names, names_models, times):\n",
    "    for i in range(len(list_y_predict)):\n",
    "        print('='*50)\n",
    "        print(names_models[i], ': ', times[i], ' seconds.')\n",
    "        print('-'*50)\n",
    "        print(metrics.classification_report(y_actual, list_y_predict[i], \n",
    "                                    target_names= target_names))\n",
    "\n",
    "def plot_save_confussionmatrix(y_actual, list_y_pred, names_models):\n",
    "    plt.clf()\n",
    "    for i in range(len(list_y_pred)):\n",
    "        cm=confusion_matrix(y_actual, list_y_pred[i])\n",
    "        cm_df=pd.DataFrame(cm,index=[0,1,2],columns=[0,1,2])\n",
    "        print(\"Accuracy:\",names_models[i], accuracy_score(y_actual, list_y_pred[i]))\n",
    "\n",
    "        sns.set(font_scale=1.,color_codes=True,palette=\"deep\")\n",
    "        sns.heatmap(cm_df,annot=True,annot_kws={\"size\":12},fmt=\"d\",cmap=\"YlGnBu\")\n",
    "        plt.title(\"Confusion Matrix\")\n",
    "        plt.xlabel(\"Predicted Value\")\n",
    "        plt.ylabel(\"True Value\")\n",
    "        plt.savefig('../dataset/images_result/'+ names_models[i] + '.png', format='png', dpi=120)"
   ]
  },
  {
   "cell_type": "code",
   "execution_count": null,
   "metadata": {},
   "outputs": [],
   "source": [
    "classification_report(y_train, results, dataset['class'].unique(), names, times)"
   ]
  },
  {
   "cell_type": "code",
   "execution_count": null,
   "metadata": {},
   "outputs": [],
   "source": [
    "plot_save_confussionmatrix(y_train, results, names)"
   ]
  },
  {
   "cell_type": "code",
   "execution_count": null,
   "metadata": {},
   "outputs": [],
   "source": []
  }
 ],
 "metadata": {
  "kernelspec": {
   "display_name": "Python 3",
   "language": "python",
   "name": "python3"
  },
  "language_info": {
   "codemirror_mode": {
    "name": "ipython",
    "version": 3
   },
   "file_extension": ".py",
   "mimetype": "text/x-python",
   "name": "python",
   "nbconvert_exporter": "python",
   "pygments_lexer": "ipython3",
   "version": "3.8.3"
  }
 },
 "nbformat": 4,
 "nbformat_minor": 4
}
